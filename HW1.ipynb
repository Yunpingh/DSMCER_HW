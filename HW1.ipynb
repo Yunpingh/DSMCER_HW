{
 "cells": [
  {
   "cell_type": "markdown",
   "metadata": {},
   "source": [
    "#  <font color='red'>Reading Question</font>\n",
    "<font color='red'>Some machine learning projects overly simplified the chemistry behind material. For example in Reference 39, they saw monomers as elementary unit in the design of polymeric materials for organic electronics; AlphaFold saw aminoacid as  elementary unit predicting protein geometry. However, in both cases hydrogen bonding plays an crucial part in the results, which they overlooked. What would be the impacts of this? Will their results still be liable?</font>\n"
   ]
  },
  {
   "cell_type": "markdown",
   "metadata": {},
   "source": [
    "# [The Harvard Clean Energy Project](https://pubs.acs.org/doi/10.1021/jz200866s)\n",
    "\n",
    "## Background of study\n",
    "The material development for organic solar cells is slow, because it relies on empirical intuition and experience and the cycles of syntheses and characterization are long.\n",
    "\n",
    "## How to use computational methods to screen a large database of potential material candidates \n",
    "\n",
    "### 1) Build a database\n",
    "Generating molecular motifs based on elementary building blocks and bonding rules\n",
    "\n",
    "### 2) Use computational methods to predict properites of molecular motifs generated\n",
    "\n",
    "### 3) Use experiemental results to validate the predicted results\n",
    "Predicted results were found liable\n",
    "\n",
    "### 4) Screening potential molecular motifs\n",
    "First, use some easily obtained properties to eliminate a majority of unfit candidates. Then use high-level calculation to further narrow down the scope and come up with a list of highly promising candidates.\n",
    "\n",
    "### 5) Synthesize some of the highly promising ones, prove your point and submit a paper....\n",
    "\n",
    "### 6) Talk about your visions of the future....\n"
   ]
  },
  {
   "cell_type": "code",
   "execution_count": null,
   "metadata": {},
   "outputs": [],
   "source": []
  }
 ],
 "metadata": {
  "kernelspec": {
   "display_name": "Python 3",
   "language": "python",
   "name": "python3"
  },
  "language_info": {
   "codemirror_mode": {
    "name": "ipython",
    "version": 3
   },
   "file_extension": ".py",
   "mimetype": "text/x-python",
   "name": "python",
   "nbconvert_exporter": "python",
   "pygments_lexer": "ipython3",
   "version": "3.6.8"
  }
 },
 "nbformat": 4,
 "nbformat_minor": 2
}
